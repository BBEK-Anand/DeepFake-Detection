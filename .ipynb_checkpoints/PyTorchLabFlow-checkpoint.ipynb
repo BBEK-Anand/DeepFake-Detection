{
 "cells": [
  {
   "cell_type": "code",
   "execution_count": 1,
   "id": "2134f446",
   "metadata": {},
   "outputs": [
    {
     "data": {
      "text/html": [
       "<style>.container{width:100%}</styel>\n"
      ],
      "text/plain": [
       "<IPython.core.display.HTML object>"
      ]
     },
     "metadata": {},
     "output_type": "display_data"
    }
   ],
   "source": [
    "%%HTML\n",
    "<style>.container{width:100%}</styel>"
   ]
  },
  {
   "cell_type": "markdown",
   "id": "7da071bc",
   "metadata": {},
   "source": [
    "# Step:- 0 | create aproject folder and required files\n",
    "Use `setup_project` with a parameter `project_name`, here my project name is `DFD`."
   ]
  },
  {
   "cell_type": "code",
   "execution_count": 2,
   "id": "4e2595e8",
   "metadata": {},
   "outputs": [],
   "source": [
    "from PyTorchLabFlow import setup_project\n",
    "setup_project(project_name=\"DFD\")"
   ]
  },
  {
   "cell_type": "markdown",
   "id": "e6804d54",
   "metadata": {},
   "source": [
    "#### Now your project root folder is `DFD`, all your `ipynb` files should be direcly inside project root.\n",
    "### Here i will create only 2 `ipynb` files `Modelling.ipynb` and `Training.ipynb` file.\n",
    "### you can manage all your experiments only in 2 files\n",
    "### Go to `DFD` folder and create `Training.ipynb` files and make the defauld components that remain same for all experiments."
   ]
  },
  {
   "cell_type": "markdown",
   "id": "8d20cf1c",
   "metadata": {},
   "source": [
    "# For next steps  go to `training.ipynb` file and follow the steps."
   ]
  },
  {
   "cell_type": "code",
   "execution_count": null,
   "id": "4edc70df",
   "metadata": {},
   "outputs": [],
   "source": []
  }
 ],
 "metadata": {
  "kernelspec": {
   "display_name": "Python 3 (ipykernel)",
   "language": "python",
   "name": "python3"
  },
  "language_info": {
   "codemirror_mode": {
    "name": "ipython",
    "version": 3
   },
   "file_extension": ".py",
   "mimetype": "text/x-python",
   "name": "python",
   "nbconvert_exporter": "python",
   "pygments_lexer": "ipython3",
   "version": "3.11.5"
  }
 },
 "nbformat": 4,
 "nbformat_minor": 5
}
